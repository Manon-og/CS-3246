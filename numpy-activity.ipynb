{
  "cells": [
    {
      "cell_type": "markdown",
      "metadata": {},
      "source": [
        "Digamon,\n",
        "Manon-og"
      ]
    },
    {
      "cell_type": "markdown",
      "metadata": {
        "id": "A4GF3lV6jm5x"
      },
      "source": [
        "# **Activity 1: NumPy Exercise**\n",
        "\n",
        "**Objective:**\n",
        "\n",
        "Practice NumPy's array manipulation, indexing, and mathematical functions by solving problems related to basic data analysis and matrix operations."
      ]
    },
    {
      "cell_type": "markdown",
      "metadata": {
        "id": "Pq3P9XLbjVU4"
      },
      "source": [
        "## **Part 1**"
      ]
    },
    {
      "cell_type": "markdown",
      "metadata": {
        "id": "VkOXGCuiLGR9"
      },
      "source": [
        "#### 1. Import the numpy package under the name `np`\n"
      ]
    },
    {
      "cell_type": "code",
      "execution_count": 3,
      "metadata": {},
      "outputs": [
        {
          "name": "stdout",
          "output_type": "stream",
          "text": [
            "Collecting numpy\n",
            "  Downloading numpy-2.2.2-cp313-cp313-macosx_14_0_arm64.whl.metadata (62 kB)\n",
            "Downloading numpy-2.2.2-cp313-cp313-macosx_14_0_arm64.whl (5.1 MB)\n",
            "\u001b[2K   \u001b[90m━━━━━━━━━━━━━━━━━━━━━━━━━━━━━━━━━━━━━━━━\u001b[0m \u001b[32m5.1/5.1 MB\u001b[0m \u001b[31m666.0 kB/s\u001b[0m eta \u001b[36m0:00:00\u001b[0ma \u001b[36m0:00:01\u001b[0m\n",
            "\u001b[?25hInstalling collected packages: numpy\n",
            "Successfully installed numpy-2.2.2\n",
            "\n",
            "\u001b[1m[\u001b[0m\u001b[34;49mnotice\u001b[0m\u001b[1;39;49m]\u001b[0m\u001b[39;49m A new release of pip is available: \u001b[0m\u001b[31;49m24.3.1\u001b[0m\u001b[39;49m -> \u001b[0m\u001b[32;49m25.0\u001b[0m\n",
            "\u001b[1m[\u001b[0m\u001b[34;49mnotice\u001b[0m\u001b[1;39;49m]\u001b[0m\u001b[39;49m To update, run: \u001b[0m\u001b[32;49mpip3 install --upgrade pip\u001b[0m\n",
            "Note: you may need to restart the kernel to use updated packages.\n"
          ]
        }
      ],
      "source": [
        "pip install numpy"
      ]
    },
    {
      "cell_type": "code",
      "execution_count": 267,
      "metadata": {
        "id": "DhbEnfx8O314"
      },
      "outputs": [],
      "source": [
        "import numpy as np"
      ]
    },
    {
      "cell_type": "markdown",
      "metadata": {
        "id": "ktNjFh4pO-5C"
      },
      "source": [
        "#### 2. Print the numpy version"
      ]
    },
    {
      "cell_type": "code",
      "execution_count": 170,
      "metadata": {
        "id": "7tZfwQhhPQoI"
      },
      "outputs": [
        {
          "name": "stdout",
          "output_type": "stream",
          "text": [
            "2.2.2\n"
          ]
        }
      ],
      "source": [
        "print(np.__version__)"
      ]
    },
    {
      "cell_type": "markdown",
      "metadata": {
        "id": "D4V99t3oQRAB"
      },
      "source": [
        "#### 3. Create a null array of size 5"
      ]
    },
    {
      "cell_type": "code",
      "execution_count": 169,
      "metadata": {
        "id": "XnL-QmA_QYa2"
      },
      "outputs": [
        {
          "name": "stdout",
          "output_type": "stream",
          "text": [
            "[0. 0. 0. 0. 0.]\n"
          ]
        }
      ],
      "source": [
        "arr = np.zeros(5)\n",
        "\n",
        "print(arr)"
      ]
    },
    {
      "cell_type": "markdown",
      "metadata": {
        "id": "x9tAEjPlQcnh"
      },
      "source": [
        "#### 4. Create a null array of size 15 but the seventh value which is 1"
      ]
    },
    {
      "cell_type": "code",
      "execution_count": 7,
      "metadata": {
        "id": "VgwfRV6OQlGk"
      },
      "outputs": [
        {
          "name": "stdout",
          "output_type": "stream",
          "text": [
            "[0. 0. 0. 0. 0. 0. 1. 0. 0. 0. 0. 0. 0. 0. 0.]\n"
          ]
        }
      ],
      "source": [
        "arr1 = np.zeros(15)\n",
        "arr1[6] = 1\n",
        "\n",
        "print(arr1)"
      ]
    },
    {
      "cell_type": "markdown",
      "metadata": {
        "id": "a5_Af-hYTi-X"
      },
      "source": [
        "#### 5. Create a 4x4 matrix with values ranging from 0 to 11"
      ]
    },
    {
      "cell_type": "code",
      "execution_count": 8,
      "metadata": {
        "id": "HSlLeK5YQ5Lo"
      },
      "outputs": [
        {
          "name": "stdout",
          "output_type": "stream",
          "text": [
            "[[ 0  1  2  3]\n",
            " [ 4  5  6  7]\n",
            " [ 8  9 10 11]\n",
            " [12 13 14 15]]\n"
          ]
        }
      ],
      "source": [
        "matrix = np.arange(16).reshape(4, 4) \n",
        "\n",
        "print(matrix)"
      ]
    },
    {
      "cell_type": "markdown",
      "metadata": {
        "id": "nLJvzwjfVXOL"
      },
      "source": [
        "#### 6. Find indices of non-zero elements from [1,2,4,0,4,0]"
      ]
    },
    {
      "cell_type": "code",
      "execution_count": 9,
      "metadata": {
        "id": "o8vyHuWfVbXu"
      },
      "outputs": [
        {
          "name": "stdout",
          "output_type": "stream",
          "text": [
            "(array([0, 1, 2, 4]),)\n"
          ]
        }
      ],
      "source": [
        "arr2 = np.array([1,2,4,0,4,0])\n",
        "x = np.where(arr2 != 0)\n",
        "\n",
        "print(x)"
      ]
    },
    {
      "cell_type": "markdown",
      "metadata": {
        "id": "z6OrgicLV6C-"
      },
      "source": [
        "#### 7. Create a 4x4x4 array with random values"
      ]
    },
    {
      "cell_type": "code",
      "execution_count": 10,
      "metadata": {
        "collapsed": true,
        "id": "MhcNEK55V1UF"
      },
      "outputs": [
        {
          "name": "stdout",
          "output_type": "stream",
          "text": [
            "[[[513 953 899 471]\n",
            "  [112 979 795 823]\n",
            "  [222 604 512 528]\n",
            "  [340 453 319 126]]\n",
            "\n",
            " [[709 736 136 747]\n",
            "  [620   0 562 423]\n",
            "  [506 919 274 494]\n",
            "  [415 305  20  27]]\n",
            "\n",
            " [[ 69  62 265 957]\n",
            "  [251   3 822  31]\n",
            "  [171 910 314 682]\n",
            "  [539 879 466 679]]\n",
            "\n",
            " [[192 645 976 550]\n",
            "  [210 910 632 889]\n",
            "  [101 636 837 438]\n",
            "  [666  96 595 269]]]\n"
          ]
        }
      ],
      "source": [
        "matrix1 = np.random.randint(0, 1000, (4, 4, 4))\n",
        "\n",
        "print(matrix1)"
      ]
    },
    {
      "cell_type": "markdown",
      "metadata": {
        "id": "aLqeru_NWso3"
      },
      "source": [
        "#### 8. Create a 15x15 array with random assigned values and find the min and max values"
      ]
    },
    {
      "cell_type": "code",
      "execution_count": 11,
      "metadata": {
        "collapsed": true,
        "id": "eSpxGZ2GWqDo"
      },
      "outputs": [
        {
          "name": "stdout",
          "output_type": "stream",
          "text": [
            "[[[513 953 899 471]\n",
            "  [112 979 795 823]\n",
            "  [222 604 512 528]\n",
            "  [340 453 319 126]]\n",
            "\n",
            " [[709 736 136 747]\n",
            "  [620   0 562 423]\n",
            "  [506 919 274 494]\n",
            "  [415 305  20  27]]\n",
            "\n",
            " [[ 69  62 265 957]\n",
            "  [251   3 822  31]\n",
            "  [171 910 314 682]\n",
            "  [539 879 466 679]]\n",
            "\n",
            " [[192 645 976 550]\n",
            "  [210 910 632 889]\n",
            "  [101 636 837 438]\n",
            "  [666  96 595 269]]]\n"
          ]
        }
      ],
      "source": [
        "matrix2 = np.random.randint(0, 1000, (15, 15))\n",
        "\n",
        "print(matrix1)"
      ]
    },
    {
      "cell_type": "code",
      "execution_count": 12,
      "metadata": {},
      "outputs": [
        {
          "name": "stdout",
          "output_type": "stream",
          "text": [
            "minValue:  4\n",
            "maxValue:  99\n",
            "[[[96 66 51 50]\n",
            "  [94 64 48 88]\n",
            "  [57 20 54 25]\n",
            "  [ 4 82 27 93]]\n",
            "\n",
            " [[55 88 74 39]\n",
            "  [39 36  7 99]\n",
            "  [49 76 69 43]\n",
            "  [10 67 84 29]]\n",
            "\n",
            " [[23 27 58 60]\n",
            "  [98 19 99 11]\n",
            "  [19 53 21 18]\n",
            "  [19 79 79 21]]\n",
            "\n",
            " [[56 64 16 38]\n",
            "  [26  9 87 24]\n",
            "  [49 53  7 86]\n",
            "  [66 29  9 18]]]\n"
          ]
        }
      ],
      "source": [
        "matrix2 = np.random.randint(0, 100, (4, 4, 4))\n",
        "minValue = np.min(matrix2)\n",
        "maxValue = np.max(matrix2)\n",
        "\n",
        "print(\"minValue: \", minValue)\n",
        "print(\"maxValue: \", maxValue)\n",
        "print(matrix2)"
      ]
    },
    {
      "cell_type": "markdown",
      "metadata": {
        "id": "cUFXQqkHW6qB"
      },
      "source": []
    },
    {
      "cell_type": "markdown",
      "metadata": {
        "id": "jIAQPvclbEVr"
      },
      "source": [
        "#### 9. Create a random array of size 25 and find the mean value"
      ]
    },
    {
      "cell_type": "code",
      "execution_count": 13,
      "metadata": {
        "id": "q91Y8GMebPeY"
      },
      "outputs": [
        {
          "name": "stdout",
          "output_type": "stream",
          "text": [
            "meanValue: 501.72\n",
            "[712 908 393 929 506 905 149  85 273 257  90  49  69 924 409 826 934 494\n",
            " 440 462 639 944 165 670 311]\n"
          ]
        }
      ],
      "source": [
        "matrix3 = np.random.randint(0, 1000, (25))\n",
        "meanValue = np.mean(matrix3)\n",
        "\n",
        "print(\"meanValue:\", meanValue)\n",
        "print(matrix3)"
      ]
    },
    {
      "cell_type": "markdown",
      "metadata": {
        "id": "1z3JFRgAkmNP"
      },
      "source": [
        "#### 10.  Show your codes\n",
        "\n",
        "Given:\n",
        "\n",
        "array 1 = ([2, 4, 9])\\\n",
        "array 2 = ([1, 14, 6])\n",
        "\n",
        "  *Note: Recreate the arrays*"
      ]
    },
    {
      "cell_type": "code",
      "execution_count": 14,
      "metadata": {
        "id": "jiC8LUdknLPN"
      },
      "outputs": [
        {
          "name": "stdout",
          "output_type": "stream",
          "text": [
            "[2 4 9]\n",
            "[ 1 14  6]\n"
          ]
        }
      ],
      "source": [
        "arr3 = np.array([2,4,9])\n",
        "arr4 = np.array([1,14,6])\n",
        "\n",
        "print(arr3)\n",
        "print(arr4)"
      ]
    },
    {
      "cell_type": "markdown",
      "metadata": {
        "id": "QFPFjpSSmecQ"
      },
      "source": [
        "10.1 What is the result of *a + b*?"
      ]
    },
    {
      "cell_type": "code",
      "execution_count": null,
      "metadata": {
        "id": "Yqcpj3ccm5La"
      },
      "outputs": [],
      "source": [
        "arr3 = np.array([2,4,9])\n",
        "arr4 = np.array([1,14,6])\n",
        "\n",
        "Sum = arr3 + arr4\n",
        "\n",
        "print(arr3)\n",
        "print(arr4)\n",
        "print(Sum)"
      ]
    },
    {
      "cell_type": "markdown",
      "metadata": {
        "id": "t0__U1Bum7k6"
      },
      "source": [
        "10.2 What is the result of *a - b*?"
      ]
    },
    {
      "cell_type": "code",
      "execution_count": 15,
      "metadata": {
        "id": "SmuAcAubnCNO"
      },
      "outputs": [
        {
          "name": "stdout",
          "output_type": "stream",
          "text": [
            "[2 4 9]\n",
            "[ 1 14  6]\n",
            "[  1 -10   3]\n"
          ]
        }
      ],
      "source": [
        "arr3 = np.array([2,4,9])\n",
        "arr4 = np.array([1,14,6])\n",
        "\n",
        "Dif = arr3 - arr4\n",
        "\n",
        "print(arr3)\n",
        "print(arr4)\n",
        "print(Dif)"
      ]
    },
    {
      "cell_type": "markdown",
      "metadata": {
        "id": "5dbiR_Urm5fJ"
      },
      "source": [
        "10.3 What is the result of *a × b*?"
      ]
    },
    {
      "cell_type": "code",
      "execution_count": 154,
      "metadata": {
        "id": "Zpnb_vGqksSF"
      },
      "outputs": [
        {
          "name": "stdout",
          "output_type": "stream",
          "text": [
            "[2 4 9]\n",
            "[ 1 14  6]\n",
            "[ 2 56 54]\n"
          ]
        }
      ],
      "source": [
        "arr3 = np.array([2,4,9])\n",
        "arr4 = np.array([1,14,6])\n",
        "\n",
        "Mul = arr3 * arr4\n",
        "\n",
        "print(arr3)\n",
        "print(arr4)\n",
        "print(Mul)"
      ]
    },
    {
      "cell_type": "markdown",
      "metadata": {
        "id": "jHTozQuZp2WM"
      },
      "source": [
        "10.4 What is the result of *a ÷ b*?"
      ]
    },
    {
      "cell_type": "code",
      "execution_count": 17,
      "metadata": {
        "id": "9Jx0GzTIqArP"
      },
      "outputs": [
        {
          "name": "stdout",
          "output_type": "stream",
          "text": [
            "[2 4 9]\n",
            "[ 1 14  6]\n",
            "[2.         0.28571429 1.5       ]\n"
          ]
        }
      ],
      "source": [
        "arr3 = np.array([2,4,9])\n",
        "arr4 = np.array([1,14,6])\n",
        "\n",
        "Div = arr3 / arr4\n",
        "\n",
        "print(arr3)\n",
        "print(arr4)\n",
        "print(Div)"
      ]
    },
    {
      "cell_type": "markdown",
      "metadata": {
        "id": "I3FhrIORjZsA"
      },
      "source": [
        "## **Part 2**"
      ]
    },
    {
      "cell_type": "markdown",
      "metadata": {
        "id": "JDa9MTb2wXPi"
      },
      "source": [
        "##### NumPy Array Indexing"
      ]
    },
    {
      "cell_type": "markdown",
      "metadata": {
        "id": "M4rwQgDqrLoo"
      },
      "source": [
        "\n",
        "Given the following matrix:\n",
        "\n",
        "        [[10, 20, 30],\n",
        "        [40, 50, 60],\n",
        "        [70, 80, 90]]\n",
        "\n",
        " 1. Recreate the matrix"
      ]
    },
    {
      "cell_type": "code",
      "execution_count": 19,
      "metadata": {
        "id": "Ra4n8YBQr2RZ"
      },
      "outputs": [
        {
          "name": "stdout",
          "output_type": "stream",
          "text": [
            "[[10 20 30]\n",
            " [40 50 60]\n",
            " [70 80 90]]\n"
          ]
        }
      ],
      "source": [
        "matrix4 = np.array([[10,20,30], [40,50,60], [70,80,90]])\n",
        "\n",
        "print(matrix4)"
      ]
    },
    {
      "cell_type": "markdown",
      "metadata": {
        "id": "br-ZYkK3uo24"
      },
      "source": [
        "1. Write code to extract the element 50."
      ]
    },
    {
      "cell_type": "code",
      "execution_count": 20,
      "metadata": {
        "id": "kI7jzTiYrTep"
      },
      "outputs": [
        {
          "name": "stdout",
          "output_type": "stream",
          "text": [
            "50\n"
          ]
        }
      ],
      "source": [
        "matrix4 = np.array([[10,20,30], [40,50,60], [70,80,90]])\n",
        "element50 = matrix4[1,1]\n",
        "\n",
        "print(element50)"
      ]
    },
    {
      "cell_type": "markdown",
      "metadata": {
        "id": "H1OsD655sEX6"
      },
      "source": [
        "2. **Extract a Row**\\\n",
        "\\\n",
        "Using the same array arr, extract the second row as a separate NumPy array."
      ]
    },
    {
      "cell_type": "code",
      "execution_count": 22,
      "metadata": {
        "id": "jf-K5No5sRob"
      },
      "outputs": [
        {
          "name": "stdout",
          "output_type": "stream",
          "text": [
            "[40 50 60]\n"
          ]
        }
      ],
      "source": [
        "matrix4 = np.array([[10,20,30], [40,50,60], [70,80,90]])\n",
        "arr5 = matrix4[1]\n",
        "\n",
        "print(arr5)"
      ]
    },
    {
      "cell_type": "markdown",
      "metadata": {
        "id": "qk1-NvWjsVC3"
      },
      "source": [
        "3.  **Extract a Column**\\\n",
        "\\\n",
        "Using arr, extract the third column as a separate NumPy array."
      ]
    },
    {
      "cell_type": "code",
      "execution_count": 24,
      "metadata": {
        "id": "d1s1c5q9sgID"
      },
      "outputs": [
        {
          "name": "stdout",
          "output_type": "stream",
          "text": [
            "[30 60 90]\n"
          ]
        }
      ],
      "source": [
        "matrix4 = np.array([[10,20,30], [40,50,60], [70,80,90]])\n",
        "arr5 = matrix4[0,2]\n",
        "arr6 = matrix4[1,2]\n",
        "arr7 = matrix4[2,2]\n",
        "arr8 = np.array([arr5, arr6, arr7])\n",
        "\n",
        "print(arr8)\n"
      ]
    },
    {
      "cell_type": "markdown",
      "metadata": {
        "id": "DIe9pf8nskUZ"
      },
      "source": [
        "4. **Extract a Submatrix**\\\n",
        "\\\n",
        "Extract the following 2×2 submatrix from arr:\\\n",
        "\n",
        "  [[50 60]\\\n",
        " [80 90]]"
      ]
    },
    {
      "cell_type": "code",
      "execution_count": 37,
      "metadata": {
        "id": "37dC5sA3ssZV"
      },
      "outputs": [
        {
          "name": "stdout",
          "output_type": "stream",
          "text": [
            "[[50 60]\n",
            " [80 90]]\n"
          ]
        }
      ],
      "source": [
        "matrix4 = np.array([[10,20,30], [40,50,60], [70,80,90]])\n",
        "matrix5 = matrix4[1:3, 1:]\n",
        "\n",
        "print(matrix5)\n"
      ]
    },
    {
      "cell_type": "markdown",
      "metadata": {
        "id": "ABs-32sKwOcg"
      },
      "source": [
        "##### NumPy Array Slicing"
      ]
    },
    {
      "cell_type": "markdown",
      "metadata": {
        "id": "T7kcCxr9uGAO"
      },
      "source": [
        "Given the following matrix:\n",
        "\n",
        "                [ 1,  2,  3,  4],\n",
        "                [ 5,  6,  7,  8],\n",
        "                [ 9, 10, 11, 12]]\n",
        "\n",
        "1. Recreate the matrix"
      ]
    },
    {
      "cell_type": "code",
      "execution_count": 47,
      "metadata": {
        "id": "CvzBw2FpwasA"
      },
      "outputs": [
        {
          "name": "stdout",
          "output_type": "stream",
          "text": [
            "[[ 1  2  3  4]\n",
            " [ 5  6  7  8]\n",
            " [ 9 10 11 12]]\n"
          ]
        }
      ],
      "source": [
        "matrix6 = np.array([[1,2,3,4],[5,6,7,8],[9,10,11,12]])\n",
        "\n",
        "print(matrix6)"
      ]
    },
    {
      "cell_type": "markdown",
      "metadata": {
        "id": "YaaIsRTVwlof"
      },
      "source": [
        "2. Write code to extract the following 2×2 subarray:\n",
        "\n",
        "        [[ 6  7]\n",
        "        [10 11]]"
      ]
    },
    {
      "cell_type": "code",
      "execution_count": 72,
      "metadata": {
        "id": "PpyFr5wYwuLN"
      },
      "outputs": [
        {
          "name": "stdout",
          "output_type": "stream",
          "text": [
            "[[ 6  7]\n",
            " [10 11]]\n"
          ]
        }
      ],
      "source": [
        "matrix6 = np.array([[1,2,3,4],[5,6,7,8],[9,10,11,12]])\n",
        "matrix7 = matrix6[1:3, 1:3]\n",
        "\n",
        "print(matrix7)"
      ]
    },
    {
      "cell_type": "markdown",
      "metadata": {
        "id": "poinisgbw02m"
      },
      "source": [
        "3. Using the same matrix, write code to extract every other element from the first row (expected output: [1, 3])."
      ]
    },
    {
      "cell_type": "code",
      "execution_count": 84,
      "metadata": {
        "id": "9UyP9S3Ww-wf"
      },
      "outputs": [
        {
          "name": "stdout",
          "output_type": "stream",
          "text": [
            "[[1 3]]\n"
          ]
        }
      ],
      "source": [
        "matrix6 = np.array([[1,2,3,4],[5,6,7,8],[9,10,11,12]])\n",
        "matrix7 = matrix6[0:1, 0:3:2]\n",
        "\n",
        "print(matrix7)"
      ]
    },
    {
      "cell_type": "markdown",
      "metadata": {
        "id": "0it7IxPqxTq3"
      },
      "source": [
        "4. Write code to reverse the order of rows in the matrix"
      ]
    },
    {
      "cell_type": "code",
      "execution_count": 90,
      "metadata": {
        "id": "-tqPKhrmxWP7"
      },
      "outputs": [
        {
          "name": "stdout",
          "output_type": "stream",
          "text": [
            "[[12 11 10  9]\n",
            " [ 8  7  6  5]\n",
            " [ 4  3  2  1]]\n"
          ]
        }
      ],
      "source": [
        "matrix8 = np.array([[1,2,3,4],[5,6,7,8],[9,10,11,12]])\n",
        "matrix9 = matrix8[::-1, ::-1]\n",
        "\n",
        "print(matrix9)"
      ]
    },
    {
      "cell_type": "markdown",
      "metadata": {
        "id": "C8EWGps7xfYl"
      },
      "source": [
        "5. Write code to extract the last two columns of the matrix."
      ]
    },
    {
      "cell_type": "code",
      "execution_count": 99,
      "metadata": {
        "id": "F7sJw1N1xiKC"
      },
      "outputs": [
        {
          "name": "stdout",
          "output_type": "stream",
          "text": [
            "[[ 3  4]\n",
            " [ 7  8]\n",
            " [11 12]]\n"
          ]
        }
      ],
      "source": [
        "matrix10 = np.array([[1,2,3,4],[5,6,7,8],[9,10,11,12]])\n",
        "matrix11 = matrix10[0:4, 2:4]\n",
        "\n",
        "print(matrix7)"
      ]
    },
    {
      "cell_type": "markdown",
      "metadata": {
        "id": "_8sVIp1q2MYw"
      },
      "source": [
        "##### NumPy Array Joins\n",
        "\n",
        "1. Given the following arrays:\n",
        "\n",
        "        arr1 = ([11, 7, 33])\\\n",
        "        arr2 = ([44, 5, 18])\n",
        "\n",
        "1.1 Recreate the arrays"
      ]
    },
    {
      "cell_type": "code",
      "execution_count": 104,
      "metadata": {
        "id": "-1H2IYDs2hMx"
      },
      "outputs": [
        {
          "name": "stdout",
          "output_type": "stream",
          "text": [
            "[11  7 33]\n",
            "[44  5 18]\n"
          ]
        }
      ],
      "source": [
        "arr9 = np.array([11,7,33])\n",
        "arr10 = np.array([44,5,18])\n",
        "\n",
        "print(arr9)\n",
        "print(arr10)"
      ]
    },
    {
      "cell_type": "markdown",
      "metadata": {
        "id": "jJ-OxwEZ2ysr"
      },
      "source": [
        "2. Write code to join arr1 and arr2 into a single 1D array."
      ]
    },
    {
      "cell_type": "code",
      "execution_count": 106,
      "metadata": {
        "id": "fyKL42Yv2ewQ"
      },
      "outputs": [
        {
          "name": "stdout",
          "output_type": "stream",
          "text": [
            "[11  7 33 44  5 18]\n"
          ]
        }
      ],
      "source": [
        "arr11 = np.array([11,7,33])\n",
        "arr12 = np.array([44,5,18])\n",
        "arr13 = np.concatenate((arr11, arr12))\n",
        "\n",
        "print(arr13)"
      ]
    },
    {
      "cell_type": "markdown",
      "metadata": {
        "id": "1qiYH-0v25Z2"
      },
      "source": [
        "3. Using arr1 and arr2 from question 1, write code to stack them vertically into a 2D array."
      ]
    },
    {
      "cell_type": "code",
      "execution_count": 110,
      "metadata": {
        "id": "MgR89wkS2_Nw"
      },
      "outputs": [
        {
          "name": "stdout",
          "output_type": "stream",
          "text": [
            "[[11 44]\n",
            " [ 7  5]\n",
            " [33 18]]\n"
          ]
        }
      ],
      "source": [
        "arr14 = np.array([11,7,33])\n",
        "arr15 = np.array([44,5,18])\n",
        "arr16 = np.stack((arr14, arr15), axis=1)\n",
        "\n",
        "print(arr16)"
      ]
    },
    {
      "cell_type": "markdown",
      "metadata": {
        "id": "mLanHC623JpJ"
      },
      "source": [
        "4. Given the 2D arrays:\n",
        "\n",
        "        arr1 = ([[1, 2],\n",
        "               [3, 4]])\n",
        "\n",
        "        arr2 = ([[5, 6],\n",
        "               [7, 8]])\n",
        "\n",
        "4.1 Recreate the arrays"
      ]
    },
    {
      "cell_type": "code",
      "execution_count": 161,
      "metadata": {
        "id": "FDGnOATJ3JE4"
      },
      "outputs": [
        {
          "name": "stdout",
          "output_type": "stream",
          "text": [
            "[[1 2]\n",
            " [3 4]]\n",
            "[[5 6]\n",
            " [7 8]]\n"
          ]
        }
      ],
      "source": [
        "arr17 = np.array([[1,2],[3,4]])\n",
        "arr18 = np.array([[5,6],[7,8]])\n",
        "\n",
        "print(arr17)\n",
        "print(arr18)"
      ]
    },
    {
      "cell_type": "markdown",
      "metadata": {
        "id": "RyJFIfpo3wiA"
      },
      "source": [
        "5. Write code to join them horizontally (column-wise)."
      ]
    },
    {
      "cell_type": "code",
      "execution_count": 146,
      "metadata": {
        "id": "0eHEY4N63zgT"
      },
      "outputs": [
        {
          "name": "stdout",
          "output_type": "stream",
          "text": [
            "[[1 2 5 6]\n",
            " [3 4 7 8]]\n"
          ]
        }
      ],
      "source": [
        "arr19 = np.array([[1,2],[3,4]])\n",
        "arr20 = np.array([[5,6],[7,8]])\n",
        "arr21 = np.hstack((arr19, arr20))\n",
        "\n",
        "print(arr21)"
      ]
    },
    {
      "cell_type": "markdown",
      "metadata": {
        "id": "encqt9P74ZSv"
      },
      "source": [
        "6. Using arr1 and arr2 from question 4, write code to join them vertically (row-wise).\n"
      ]
    },
    {
      "cell_type": "code",
      "execution_count": 147,
      "metadata": {
        "id": "o-UjS1Kn4rS7"
      },
      "outputs": [
        {
          "name": "stdout",
          "output_type": "stream",
          "text": [
            "[[1 2]\n",
            " [3 4]\n",
            " [5 6]\n",
            " [7 8]]\n"
          ]
        }
      ],
      "source": [
        "arr22 = np.array([[1,2],[3,4]])\n",
        "arr23 = np.array([[5,6],[7,8]])\n",
        "arr24 = np.vstack((arr22, arr23))\n",
        "\n",
        "print(arr24)\n"
      ]
    },
    {
      "cell_type": "markdown",
      "metadata": {
        "id": "2l2umcfvjlXq"
      },
      "source": [
        "## **Part 3**"
      ]
    },
    {
      "cell_type": "markdown",
      "metadata": {
        "id": "-rs5StZQlvYg"
      },
      "source": [
        "### Task 1: Array Creation"
      ]
    },
    {
      "cell_type": "markdown",
      "metadata": {
        "id": "PKyTiCLulztg"
      },
      "source": [
        "Create the following arrays:\n",
        "\n",
        "- A 1D array of integers from 10 to 28, with a step of 2.\n",
        "- A 2D array with shape (4, 4) containing random integers between 1 and 50.\n",
        "- A 3D array of shape (2, 3, 4) filled with ones.\n",
        "\n"
      ]
    },
    {
      "cell_type": "code",
      "execution_count": 205,
      "metadata": {
        "collapsed": true,
        "id": "GRWUhpV46cR4"
      },
      "outputs": [
        {
          "name": "stdout",
          "output_type": "stream",
          "text": [
            "1st\n",
            "[10 12 14 16 18 20 22 24 26 28]\n",
            "2nd\n",
            "[[25 25  4 28]\n",
            " [16  3 24 19]\n",
            " [12 13 17 30]\n",
            " [ 8  8 41 28]]\n",
            "3rd\n",
            "[[[1. 1. 1. 1.]\n",
            "  [1. 1. 1. 1.]\n",
            "  [1. 1. 1. 1.]]\n",
            "\n",
            " [[1. 1. 1. 1.]\n",
            "  [1. 1. 1. 1.]\n",
            "  [1. 1. 1. 1.]]]\n"
          ]
        }
      ],
      "source": [
        "print(\"1st\")\n",
        "arr25 = np.arange(10,29) \n",
        "arr26 = arr25[::2]\n",
        "print(arr26)\n",
        "\n",
        "\n",
        "print(\"2nd\")\n",
        "arr27 = np.random.randint(1, 50, size=16).reshape(4, 4)  \n",
        "print(arr27)\n",
        "\n",
        "print(\"3rd\")\n",
        "arr28 = np.ones([2,3,4])\n",
        "print(arr28)\n"
      ]
    },
    {
      "cell_type": "markdown",
      "metadata": {
        "id": "yZPELZSx7ggA"
      },
      "source": [
        "### Task 2: Array Transformations\n",
        "Perform the following operations:\n",
        "- Reshape the 1D array to a 2D array with 2 rows.\n",
        "- Extract the last two rows of the 2D array (From Task 1)\n",
        "- Replace all even numbers in the 2D array with -1. (From Task 1)"
      ]
    },
    {
      "cell_type": "code",
      "execution_count": 211,
      "metadata": {
        "id": "5EJrW4nw7sIE"
      },
      "outputs": [
        {
          "name": "stdout",
          "output_type": "stream",
          "text": [
            "1st\n",
            "[[10 12 14 16 18]\n",
            " [20 22 24 26 28]]\n",
            "2st\n",
            "[16  3 24 19]\n",
            "3rd\n",
            "[-1  3 -1 19]\n"
          ]
        }
      ],
      "source": [
        "print(\"1st\")\n",
        "arr29 = np.arange(10, 28)\n",
        "arr30 = arr26.reshape(2, -1)\n",
        "print(arr30)\n",
        "\n",
        "print(\"2st\")\n",
        "arr31 = arr27[1]\n",
        "print(arr31)\n",
        "\n",
        "print(\"3rd\")\n",
        "value = -1\n",
        "arr32 = np.where(arr31 % 2 == 0, value, arr31)\n",
        "print(arr32)\n"
      ]
    },
    {
      "cell_type": "markdown",
      "metadata": {
        "id": "ZkDoNNBjn7nP"
      },
      "source": [
        "### Task 3: Statistical Operations"
      ]
    },
    {
      "cell_type": "markdown",
      "metadata": {
        "id": "87sRNKp0n7nP"
      },
      "source": [
        "Using the 2D array from **Task 1**, compute the following:\n",
        "\n",
        "- The mean, median, and standard deviation of the array. (From Task 1)\n",
        "- The sum of all elements along each row. (From Task 1)\n",
        "- The maximum value and its index in the entire array. (From Task 1)\n"
      ]
    },
    {
      "cell_type": "code",
      "execution_count": 220,
      "metadata": {
        "id": "TEoMfRV68VlZ"
      },
      "outputs": [
        {
          "name": "stdout",
          "output_type": "stream",
          "text": [
            "1st\n",
            "mean: 18.8125\n",
            "median: 18.0\n",
            "standard: 10.260474830630404\n",
            "2nd\n",
            "[16  3 24 19]\n",
            "sumOfArr27: 62\n",
            "3rd\n",
            "[[25 25  4 28]\n",
            " [16  3 24 19]\n",
            " [12 13 17 30]\n",
            " [ 8  8 41 28]]\n",
            "maxValueOfArr27: 41\n",
            "located at (array([3]), array([2]))\n"
          ]
        }
      ],
      "source": [
        "print(\"1st\")\n",
        "mean = np.mean(arr27)\n",
        "print(\"mean:\", mean)\n",
        "median = np.median(arr27)\n",
        "print(\"median:\", median)\n",
        "standard = np.std(arr27)\n",
        "print(\"standard:\", standard)\n",
        "\n",
        "print(\"2nd\")\n",
        "sumOfArr27 = np.sum(arr27[1])\n",
        "print(arr27[1])\n",
        "print(\"sumOfArr27:\", sumOfArr27)\n",
        "\n",
        "print(\"3rd\")\n",
        "maxValueOfArr27 = np.max(arr27)\n",
        "print(arr27)\n",
        "findMaxValue = np.where(arr27 == maxValueOfArr27)\n",
        "print(\"maxValueOfArr27:\", maxValueOfArr27)\n",
        "print(\"located at\",findMaxValue)"
      ]
    },
    {
      "cell_type": "markdown",
      "metadata": {
        "id": "T_X0kP3I9eWi"
      },
      "source": [
        "###  Task 4: Advanced Analysis on Large Arrays"
      ]
    },
    {
      "cell_type": "markdown",
      "metadata": {
        "id": "B6uTdro89kE7"
      },
      "source": [
        "- Create a (10, 10) array containing random floating-point numbers between 0 and 1.\n",
        "- Find the minimum value along each column.\n",
        "- Find the indices of the top 5 largest values in the entire array."
      ]
    },
    {
      "cell_type": "code",
      "execution_count": 266,
      "metadata": {
        "id": "UwJw1MIn9ovK"
      },
      "outputs": [
        {
          "name": "stdout",
          "output_type": "stream",
          "text": [
            "1st\n",
            "[[0.64792525 0.18105519 0.08370979 0.23432768 0.79374681 0.79880001\n",
            "  0.61997895 0.43253364 0.6786279  0.11350349]\n",
            " [0.20229986 0.14693633 0.11784718 0.22262485 0.30697    0.11808054\n",
            "  0.77856931 0.9950952  0.87306395 0.58486664]\n",
            " [0.99660965 0.38666236 0.56000393 0.21712862 0.34885094 0.87589463\n",
            "  0.34366814 0.94695737 0.24651357 0.41036614]\n",
            " [0.64435159 0.75119159 0.78567881 0.97806977 0.53782565 0.35830306\n",
            "  0.53423358 0.14075694 0.284583   0.13336495]\n",
            " [0.73258322 0.3639507  0.37019072 0.11677877 0.12085537 0.47947696\n",
            "  0.26674044 0.96975626 0.48836604 0.1628459 ]\n",
            " [0.55239473 0.37269232 0.35405253 0.18622247 0.49085845 0.66995933\n",
            "  0.17691916 0.29368087 0.89004671 0.96981218]\n",
            " [0.96012575 0.38970595 0.03507164 0.7912634  0.97516589 0.28032227\n",
            "  0.30650713 0.33701988 0.2406445  0.43660554]\n",
            " [0.15400296 0.37465662 0.29087831 0.73578319 0.8875189  0.18852057\n",
            "  0.85579366 0.14903994 0.81893225 0.81792336]\n",
            " [0.38322027 0.36074095 0.03470522 0.24863653 0.08517747 0.96543386\n",
            "  0.79938561 0.03989472 0.8609254  0.44815477]\n",
            " [0.50166035 0.72330731 0.47066627 0.87634683 0.68851637 0.7906297\n",
            "  0.910636   0.53728568 0.67487127 0.35851549]]\n",
            "2nd\n",
            "minValueOfArr27: 0.03470522245353158\n",
            "3rd\n",
            "they are: [0.96981218 0.97516589 0.97806977 0.9950952  0.99660965]\n",
            "Top 5 would be  (array([5]), array([9]))\n",
            "Top 4 would be  (array([6]), array([4]))\n",
            "Top 3 would be  (array([3]), array([3]))\n",
            "Top 2 would be  (array([1]), array([7]))\n",
            "Top 1 would be  (array([2]), array([0]))\n"
          ]
        }
      ],
      "source": [
        "print(\"1st\")\n",
        "arr33 = np.random.rand(100)\n",
        "arr34 = arr33.reshape(10, 10)\n",
        "print(arr34)\n",
        "\n",
        "print(\"2nd\")\n",
        "minValueOfArr34 = np.min(arr34)\n",
        "print(\"minValueOfArr27:\", minValueOfArr34)\n",
        "\n",
        "print(\"3rd\")\n",
        "arr35 = np.sort(arr34.flatten())\n",
        "arr36 = arr35[-5:]\n",
        "print(\"they are:\",arr36)\n",
        "for i in range(5):\n",
        "   index = np.where(arr34 == arr36[i])\n",
        "   print(f\"Top {5 - i} would be \",index)"
      ]
    }
  ],
  "metadata": {
    "colab": {
      "collapsed_sections": [
        "JDa9MTb2wXPi",
        "ABs-32sKwOcg"
      ],
      "provenance": []
    },
    "kernelspec": {
      "display_name": "Python 3",
      "name": "python3"
    },
    "language_info": {
      "codemirror_mode": {
        "name": "ipython",
        "version": 3
      },
      "file_extension": ".py",
      "mimetype": "text/x-python",
      "name": "python",
      "nbconvert_exporter": "python",
      "pygments_lexer": "ipython3",
      "version": "3.13.1"
    }
  },
  "nbformat": 4,
  "nbformat_minor": 0
}
